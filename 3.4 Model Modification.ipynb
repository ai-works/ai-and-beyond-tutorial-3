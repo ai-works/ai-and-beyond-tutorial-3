{
 "cells": [
  {
   "cell_type": "markdown",
   "metadata": {},
   "source": [
    "# Task 3.4 – Model Modification"
   ]
  },
  {
   "cell_type": "markdown",
   "metadata": {},
   "source": [
    "Import the SVM classification model from Task 3.0.3.\n",
    "\n",
    "1. Add a new endpoint `GET /retrain` which expects the two model parameters `C` and `gamma`, trains the model with this parameters, and returns a JSON-formatted object with a single attribute `accuracy`.\n",
    "* Add a new endpoint `GET /retrain_grid` which expects the for both model parameters `C` and `gamma` each `*_start`, `*_end` and `*_step`, trains the model with the resulting parameter ranges (using a GridSerarchCV), and returns a JSON-formatted object the attributes `accuracy` as well as `best_params` containg the parameters for `C` and `gamma` (see Task 3.3). \n",
    "*Check with:\n",
    "http://localhost:5000/retrain_grid?C_start=1000&C_end=2000&C_step=1000&gamma_start=0.01&gamma_end=0.07&gamma_step=0.02*"
   ]
  },
  {
   "cell_type": "code",
   "execution_count": null,
   "metadata": {},
   "outputs": [],
   "source": [
    "from flask import Flask, jsonify, request\n",
    "import pandas as pd"
   ]
  },
  {
   "cell_type": "code",
   "execution_count": null,
   "metadata": {},
   "outputs": [],
   "source": [
    "df = pd.read_csv('./data/lfw_people.csv', index_col = 0)\n",
    "\n",
    "df['target'] = df['target'].astype('category')\n",
    "target_names = df['target'].cat.categories\n",
    "df['target'] = df['target'].cat.codes\n",
    "\n",
    "X = df.iloc[:, :-1]\n",
    "y = df.iloc[:, -1]\n",
    "\n",
    "from sklearn.model_selection import train_test_split\n",
    "\n",
    "X_train, X_test, y_train, y_test = train_test_split(X, y, test_size=0.25, random_state=0)\n",
    "\n",
    "from sklearn.decomposition import PCA\n",
    "\n",
    "pca = PCA(n_components=150, svd_solver='randomized', whiten=True).fit(X_train)\n",
    "\n",
    "X_train_pca = pca.transform(X_train)\n",
    "X_test_pca = pca.transform(X_test)"
   ]
  },
  {
   "cell_type": "code",
   "execution_count": null,
   "metadata": {},
   "outputs": [],
   "source": [
    "app = Flask(__name__)"
   ]
  },
  {
   "cell_type": "code",
   "execution_count": null,
   "metadata": {},
   "outputs": [],
   "source": [
    "# 3.4-1\n",
    "@app.route('/retrain')\n",
    "def retrain():\n",
    "    C = float(request.args.get('C'))\n",
    "    gamma = float(request.args.get('gamma'))\n",
    "    \n",
    "    from sklearn.svm import SVC\n",
    "    from sklearn.model_selection import GridSearchCV\n",
    "\n",
    "    clf = SVC(kernel='rbf', class_weight='balanced', C=C, gamma=gamma)\n",
    "    clf = clf.fit(X_train_pca, y_train)\n",
    "\n",
    "    y_pred = clf.predict(X_test_pca)\n",
    "\n",
    "    return jsonify({'accuracy': clf.score(X_test_pca, y_test)})"
   ]
  },
  {
   "cell_type": "code",
   "execution_count": null,
   "metadata": {},
   "outputs": [],
   "source": [
    "# 3.4-2\n",
    "@app.route('/retrain_grid')\n",
    "def retrain_grid():\n",
    "    C_start = float(request.args.get('C_start'))\n",
    "    C_end = float(request.args.get('C_end'))\n",
    "    C_step = float(request.args.get('C_step'))\n",
    "\n",
    "    gamma_start = float(request.args.get('gamma_start'))\n",
    "    gamma_end = float(request.args.get('gamma_end'))\n",
    "    gamma_step = float(request.args.get('gamma_step'))\n",
    "    \n",
    "    from sklearn.svm import SVC\n",
    "    from sklearn.model_selection import GridSearchCV\n",
    "    \n",
    "    import numpy as np\n",
    "    \n",
    "    param_grid = {'C': np.arange(C_start, C_end + C_step, C_step),\n",
    "                  'gamma': np.arange(gamma_start, gamma_end + gamma_step, gamma_step)}\n",
    "    \n",
    "    clf = GridSearchCV(SVC(kernel='rbf', class_weight='balanced'), param_grid)\n",
    "    clf = clf.fit(X_train_pca, y_train)\n",
    "\n",
    "    y_pred = clf.predict(X_test_pca)\n",
    "\n",
    "    return jsonify({'accuracy': clf.score(X_test_pca, y_test),\n",
    "                   'best_params': clf.best_params_})"
   ]
  },
  {
   "cell_type": "code",
   "execution_count": null,
   "metadata": {},
   "outputs": [],
   "source": [
    "app.run(debug=True, use_reloader=False, host='0.0.0.0')"
   ]
  },
  {
   "cell_type": "markdown",
   "metadata": {},
   "source": [
    "*Note: To restart the app please interrupt the kernel and execute **all** cells again.*"
   ]
  }
 ],
 "metadata": {
  "kernelspec": {
   "display_name": "Python 3",
   "language": "python",
   "name": "python3"
  },
  "language_info": {
   "codemirror_mode": {
    "name": "ipython",
    "version": 3
   },
   "file_extension": ".py",
   "mimetype": "text/x-python",
   "name": "python",
   "nbconvert_exporter": "python",
   "pygments_lexer": "ipython3",
   "version": "3.7.0"
  }
 },
 "nbformat": 4,
 "nbformat_minor": 2
}
