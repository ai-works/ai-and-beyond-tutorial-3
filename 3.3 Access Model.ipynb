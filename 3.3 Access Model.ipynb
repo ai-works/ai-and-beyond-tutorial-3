{
 "cells": [
  {
   "cell_type": "markdown",
   "metadata": {},
   "source": [
    "# Task 3.3 – Access Model"
   ]
  },
  {
   "cell_type": "markdown",
   "metadata": {},
   "source": [
    "Import the SVM classification model from Task 3.0.3 which was trained applying a GridSearchCV.\n",
    "\n",
    "1. Add a new endpoint `GET /accuracy` which returns the model's accuracy as a JSON-formatted object with a single attribute `accuracy`.\n",
    "* Add a new endpoint `GET /best_params` which returns the modeling parameters as a JSON-formatted object with the attributes `best_params` containing `C` and `gamma` which were selected by the GridSearch as well as an attribute `param_grid` containing the parameter lists for both grid parameters. It should look like this:\n",
    "```json\n",
    "{\n",
    "      \"best_params\": {\n",
    "        \"C\": 1000.0, \n",
    "        \"gamma\": 0.001\n",
    "      }, \n",
    "      \"param_grid\": {\n",
    "        \"C\": [\n",
    "          1000.0, \n",
    "          5000.0\n",
    "        ], \n",
    "        \"gamma\": [\n",
    "          0.0001, \n",
    "          0.0005\n",
    "        ]\n",
    "      }\n",
    "}\n",
    "```"
   ]
  },
  {
   "cell_type": "code",
   "execution_count": null,
   "metadata": {},
   "outputs": [],
   "source": [
    "from flask import Flask, jsonify, request\n",
    "import pandas as pd"
   ]
  },
  {
   "cell_type": "code",
   "execution_count": null,
   "metadata": {
    "scrolled": true
   },
   "outputs": [],
   "source": [
    "df = pd.read_csv('./data/lfw_people.csv', index_col = 0)\n",
    "\n",
    "df['target'] = df['target'].astype('category')\n",
    "target_names = df['target'].cat.categories\n",
    "df['target'] = df['target'].cat.codes\n",
    "\n",
    "X = df.iloc[:, :-1]\n",
    "y = df.iloc[:, -1]\n",
    "\n",
    "from sklearn.model_selection import train_test_split\n",
    "\n",
    "X_train, X_test, y_train, y_test = train_test_split(X, y, test_size=0.25, random_state=0)\n",
    "\n",
    "from sklearn.decomposition import PCA\n",
    "\n",
    "pca = PCA(n_components=150, svd_solver='randomized', whiten=True).fit(X_train)\n",
    "\n",
    "X_train_pca = pca.transform(X_train)\n",
    "X_test_pca = pca.transform(X_test)\n",
    "\n",
    "from sklearn.svm import SVC\n",
    "from sklearn.model_selection import GridSearchCV\n",
    "\n",
    "# Train a SVM classification model\n",
    "param_grid = {'C': [1e3, 5e3, 1e4, 5e4, 1e5],\n",
    "              'gamma': [0.0001, 0.0005, 0.001, 0.005, 0.01, 0.1]}\n",
    "clf = GridSearchCV(SVC(kernel='rbf', class_weight='balanced'), param_grid)\n",
    "clf = clf.fit(X_train_pca, y_train)\n",
    "\n",
    "# Best estimator found by grid search\n",
    "print(clf.best_estimator_)\n",
    "\n",
    "from sklearn.metrics import confusion_matrix\n",
    "\n",
    "# Quantitative evaluation of the model quality on the test set\n",
    "y_pred = clf.predict(X_test_pca)\n",
    "\n",
    "print(\"Accuracy:\", clf.score(X_test_pca, y_test))\n",
    "\n",
    "print(\"Best Parameters:\", clf.best_params_)"
   ]
  },
  {
   "cell_type": "code",
   "execution_count": null,
   "metadata": {},
   "outputs": [],
   "source": [
    "app = Flask(__name__)"
   ]
  },
  {
   "cell_type": "code",
   "execution_count": null,
   "metadata": {},
   "outputs": [],
   "source": [
    "@app.route('/accuracy')\n",
    "def accuracy():\n",
    "    return jsonify({'accuracy': clf.score(X_test_pca, y_test)})"
   ]
  },
  {
   "cell_type": "code",
   "execution_count": null,
   "metadata": {},
   "outputs": [],
   "source": [
    "@app.route('/best_params')\n",
    "def best_params():\n",
    "    return jsonify({'best_params': clf.best_params_, 'param_grid': param_grid})"
   ]
  },
  {
   "cell_type": "code",
   "execution_count": null,
   "metadata": {},
   "outputs": [],
   "source": [
    "app.run(debug=True, use_reloader=False, host='0.0.0.0')"
   ]
  },
  {
   "cell_type": "markdown",
   "metadata": {},
   "source": [
    "*Note: To restart the app please interrupt the kernel and execute **all** cells again.*"
   ]
  }
 ],
 "metadata": {
  "kernelspec": {
   "display_name": "Python 3",
   "language": "python",
   "name": "python3"
  },
  "language_info": {
   "codemirror_mode": {
    "name": "ipython",
    "version": 3
   },
   "file_extension": ".py",
   "mimetype": "text/x-python",
   "name": "python",
   "nbconvert_exporter": "python",
   "pygments_lexer": "ipython3",
   "version": "3.7.0"
  }
 },
 "nbformat": 4,
 "nbformat_minor": 2
}
