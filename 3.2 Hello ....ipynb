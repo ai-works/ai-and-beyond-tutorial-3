{
 "cells": [
  {
   "cell_type": "markdown",
   "metadata": {},
   "source": [
    "# Task 3.2 – Hello ..."
   ]
  },
  {
   "cell_type": "markdown",
   "metadata": {},
   "source": [
    "1. Add a new endpoint `GET /hello` which expects an argument called `name` (string) and returns a JSON-formatted object with a single attribute `text` containing a nice message.\n",
    "* How could you cache this name to return it also in the `GET /` endpoint instead of 'World'?\n",
    "\n",
    "*Note: Access input arguments with `request.args.get('name')`. You need to import `request` from `flask`.*\n",
    "\n",
    "Check: http://localhost:5000/hello?name=Dominik"
   ]
  },
  {
   "cell_type": "code",
   "execution_count": null,
   "metadata": {},
   "outputs": [],
   "source": [
    "from flask import Flask, jsonify\n",
    "\n",
    "app = Flask(__name__)"
   ]
  },
  {
   "cell_type": "code",
   "execution_count": null,
   "metadata": {},
   "outputs": [],
   "source": [
    "@app.route('/hello_world')\n",
    "def hello_world2():\n",
    "    text = 'Hello, World!'\n",
    "    return jsonify({'text': text})"
   ]
  },
  {
   "cell_type": "code",
   "execution_count": null,
   "metadata": {},
   "outputs": [],
   "source": [
    "# 3.2-1 (don't run this cell for Task 3.2-2)\n",
    "from flask import request\n",
    "\n",
    "@app.route('/hello')\n",
    "def hello():\n",
    "    name = request.args.get('name')\n",
    "    text = 'Hello, %s!' % name\n",
    "    return jsonify({'text': text})"
   ]
  },
  {
   "cell_type": "code",
   "execution_count": null,
   "metadata": {},
   "outputs": [],
   "source": [
    "# 3.2-2\n",
    "from flask import request\n",
    "\n",
    "cache = {'name': 'World'}\n",
    "\n",
    "@app.route('/')\n",
    "def hello_world():\n",
    "    return 'Hello, %s!' % cache['name']\n",
    "\n",
    "@app.route('/hello')\n",
    "def hello():\n",
    "    name = request.args.get('name')\n",
    "    cache['name'] = name\n",
    "    text = 'Hello, %s!' % name\n",
    "    return jsonify({'text': text})"
   ]
  },
  {
   "cell_type": "code",
   "execution_count": null,
   "metadata": {},
   "outputs": [],
   "source": [
    "app.run(debug=True, use_reloader=False, host='0.0.0.0')"
   ]
  },
  {
   "cell_type": "markdown",
   "metadata": {},
   "source": [
    "*Note: To restart the app please interrupt the kernel and execute **all** cells again.*"
   ]
  }
 ],
 "metadata": {
  "kernelspec": {
   "display_name": "Python 3",
   "language": "python",
   "name": "python3"
  },
  "language_info": {
   "codemirror_mode": {
    "name": "ipython",
    "version": 3
   },
   "file_extension": ".py",
   "mimetype": "text/x-python",
   "name": "python",
   "nbconvert_exporter": "python",
   "pygments_lexer": "ipython3",
   "version": "3.7.0"
  }
 },
 "nbformat": 4,
 "nbformat_minor": 2
}
