{
 "cells": [
  {
   "cell_type": "markdown",
   "metadata": {},
   "source": [
    "# Task 3 [OPTIONAL] – How to run all together with docker-compose?"
   ]
  },
  {
   "cell_type": "markdown",
   "metadata": {},
   "source": [
    "1. Pick code from all the Tasks (3.1 - 3.4)\n",
    "* File > Download as > python (.py)\n",
    "* Replace `containers / 3.2 flask-nginx-frontend / flask-template / app / app.py` by dowloaded file (rename it to `app.py`)\n",
    "* Copy `data` folder to `containers / 3.2 flask-nginx-frontend / flask-template / app`\n",
    "* Open terminal / Power Shell and move to `containers / 3.2 flask-nginx-frontend`\n",
    "* Run `docker-compose up` "
   ]
  },
  {
   "cell_type": "code",
   "execution_count": null,
   "metadata": {},
   "outputs": [],
   "source": [
    "from flask import Flask, jsonify, request\n",
    "import pandas as pd"
   ]
  },
  {
   "cell_type": "code",
   "execution_count": null,
   "metadata": {},
   "outputs": [],
   "source": [
    "# 3.4\n",
    "df = pd.read_csv('./data/lfw_people.csv', index_col = 0)\n",
    "\n",
    "df['target'] = df['target'].astype('category')\n",
    "target_names = df['target'].cat.categories\n",
    "df['target'] = df['target'].cat.codes\n",
    "\n",
    "X = df.iloc[:, :-1]\n",
    "y = df.iloc[:, -1]\n",
    "\n",
    "from sklearn.model_selection import train_test_split\n",
    "\n",
    "X_train, X_test, y_train, y_test = train_test_split(X, y, test_size=0.25, random_state=0)\n",
    "\n",
    "from sklearn.decomposition import PCA\n",
    "\n",
    "pca = PCA(n_components=150, svd_solver='randomized', whiten=True).fit(X_train)\n",
    "\n",
    "X_train_pca = pca.transform(X_train)\n",
    "X_test_pca = pca.transform(X_test)"
   ]
  },
  {
   "cell_type": "code",
   "execution_count": null,
   "metadata": {},
   "outputs": [],
   "source": [
    "# 3.3\n",
    "from sklearn.svm import SVC\n",
    "from sklearn.model_selection import GridSearchCV\n",
    "\n",
    "# Train a SVM classification model\n",
    "param_grid = {'C': [1e3, 5e3, 1e4, 5e4, 1e5],\n",
    "              'gamma': [0.0001, 0.0005, 0.001, 0.005, 0.01, 0.1]}\n",
    "clf = GridSearchCV(SVC(kernel='rbf', class_weight='balanced'), param_grid)\n",
    "clf = clf.fit(X_train_pca, y_train)\n",
    "\n",
    "# Best estimator found by grid search\n",
    "print(clf.best_estimator_)\n",
    "\n",
    "from sklearn.metrics import confusion_matrix\n",
    "\n",
    "# Quantitative evaluation of the model quality on the test set\n",
    "y_pred = clf.predict(X_test_pca)"
   ]
  },
  {
   "cell_type": "code",
   "execution_count": null,
   "metadata": {},
   "outputs": [],
   "source": [
    "app = Flask(__name__)"
   ]
  },
  {
   "cell_type": "code",
   "execution_count": null,
   "metadata": {},
   "outputs": [],
   "source": [
    "# 3.1\n",
    "@app.route('/hello_world')\n",
    "def hello_world2():\n",
    "    text = 'Hello, World!'\n",
    "    return jsonify({'text': text})"
   ]
  },
  {
   "cell_type": "code",
   "execution_count": null,
   "metadata": {},
   "outputs": [],
   "source": [
    "# 3.2\n",
    "cache = {'name': 'World'}\n",
    "\n",
    "@app.route('/')\n",
    "def hello_world():\n",
    "    return 'Hello, %s!' % cache['name']\n",
    "\n",
    "@app.route('/hello')\n",
    "def hello():\n",
    "    name = request.args.get('name')\n",
    "    cache['name'] = name\n",
    "    text = 'Hello, %s!' % name\n",
    "    return jsonify({'text': text})"
   ]
  },
  {
   "cell_type": "code",
   "execution_count": null,
   "metadata": {},
   "outputs": [],
   "source": [
    "# 3.3-1\n",
    "@app.route('/accuracy')\n",
    "def accuracy():\n",
    "    return jsonify({'accuracy': clf.score(X_test_pca, y_test)})"
   ]
  },
  {
   "cell_type": "code",
   "execution_count": null,
   "metadata": {},
   "outputs": [],
   "source": [
    "# 3.3-2\n",
    "@app.route('/best_params')\n",
    "def best_params():\n",
    "    return jsonify({'best_params': clf.best_params_, 'param_grid': param_grid})"
   ]
  },
  {
   "cell_type": "code",
   "execution_count": null,
   "metadata": {},
   "outputs": [],
   "source": [
    "# 3.4-1\n",
    "@app.route('/retrain')\n",
    "def retrain():\n",
    "    C = float(request.args.get('C'))\n",
    "    gamma = float(request.args.get('gamma'))\n",
    "    \n",
    "    from sklearn.svm import SVC\n",
    "    from sklearn.model_selection import GridSearchCV\n",
    "\n",
    "    clf = SVC(kernel='rbf', class_weight='balanced', C=C, gamma=gamma)\n",
    "    clf = clf.fit(X_train_pca, y_train)\n",
    "\n",
    "    y_pred = clf.predict(X_test_pca)\n",
    "\n",
    "    return jsonify({'accuracy': clf.score(X_test_pca, y_test)})"
   ]
  },
  {
   "cell_type": "code",
   "execution_count": null,
   "metadata": {},
   "outputs": [],
   "source": [
    "# 3.4-2\n",
    "@app.route('/retrain_grid')\n",
    "def retrain_grid():\n",
    "    C_start = float(request.args.get('C_start'))\n",
    "    C_end = float(request.args.get('C_end'))\n",
    "    C_step = float(request.args.get('C_step'))\n",
    "\n",
    "    gamma_start = float(request.args.get('gamma_start'))\n",
    "    gamma_end = float(request.args.get('gamma_end'))\n",
    "    gamma_step = float(request.args.get('gamma_step'))\n",
    "    \n",
    "    from sklearn.svm import SVC\n",
    "    from sklearn.model_selection import GridSearchCV\n",
    "    \n",
    "    import numpy as np\n",
    "    \n",
    "    param_grid = {'C': np.arange(C_start, C_end + C_step, C_step),\n",
    "                  'gamma': np.arange(gamma_start, gamma_end + gamma_step, gamma_step)}\n",
    "    \n",
    "    clf = GridSearchCV(SVC(kernel='rbf', class_weight='balanced'), param_grid)\n",
    "    clf = clf.fit(X_train_pca, y_train)\n",
    "\n",
    "    y_pred = clf.predict(X_test_pca)\n",
    "\n",
    "    return jsonify({'accuracy': clf.score(X_test_pca, y_test),\n",
    "                   'best_params': clf.best_params_})"
   ]
  },
  {
   "cell_type": "code",
   "execution_count": null,
   "metadata": {},
   "outputs": [],
   "source": [
    "app.run(debug=True, use_reloader=False, host='0.0.0.0')"
   ]
  },
  {
   "cell_type": "markdown",
   "metadata": {},
   "source": [
    "*Note: To restart the app please interrupt the kernel and execute **all** cells again.*"
   ]
  }
 ],
 "metadata": {
  "kernelspec": {
   "display_name": "Python 3",
   "language": "python",
   "name": "python3"
  },
  "language_info": {
   "codemirror_mode": {
    "name": "ipython",
    "version": 3
   },
   "file_extension": ".py",
   "mimetype": "text/x-python",
   "name": "python",
   "nbconvert_exporter": "python",
   "pygments_lexer": "ipython3",
   "version": "3.7.0"
  }
 },
 "nbformat": 4,
 "nbformat_minor": 2
}
