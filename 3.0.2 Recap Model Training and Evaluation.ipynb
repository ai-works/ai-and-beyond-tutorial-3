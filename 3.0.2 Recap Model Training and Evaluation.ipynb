{
 "cells": [
  {
   "cell_type": "markdown",
   "metadata": {},
   "source": [
    "# Task 3.0.2 – Recap: Model Training"
   ]
  },
  {
   "cell_type": "code",
   "execution_count": 1,
   "metadata": {},
   "outputs": [],
   "source": [
    "import pandas as pd\n",
    "\n",
    "df = pd.read_csv('./data/lfw_people.csv', index_col = 0)"
   ]
  },
  {
   "cell_type": "code",
   "execution_count": 2,
   "metadata": {},
   "outputs": [
    {
     "data": {
      "text/html": [
       "<div>\n",
       "<style scoped>\n",
       "    .dataframe tbody tr th:only-of-type {\n",
       "        vertical-align: middle;\n",
       "    }\n",
       "\n",
       "    .dataframe tbody tr th {\n",
       "        vertical-align: top;\n",
       "    }\n",
       "\n",
       "    .dataframe thead th {\n",
       "        text-align: right;\n",
       "    }\n",
       "</style>\n",
       "<table border=\"1\" class=\"dataframe\">\n",
       "  <thead>\n",
       "    <tr style=\"text-align: right;\">\n",
       "      <th></th>\n",
       "      <th>0</th>\n",
       "      <th>1</th>\n",
       "      <th>2</th>\n",
       "      <th>3</th>\n",
       "      <th>4</th>\n",
       "      <th>5</th>\n",
       "      <th>6</th>\n",
       "      <th>7</th>\n",
       "      <th>8</th>\n",
       "      <th>9</th>\n",
       "      <th>...</th>\n",
       "      <th>1841</th>\n",
       "      <th>1842</th>\n",
       "      <th>1843</th>\n",
       "      <th>1844</th>\n",
       "      <th>1845</th>\n",
       "      <th>1846</th>\n",
       "      <th>1847</th>\n",
       "      <th>1848</th>\n",
       "      <th>1849</th>\n",
       "      <th>target</th>\n",
       "    </tr>\n",
       "  </thead>\n",
       "  <tbody>\n",
       "    <tr>\n",
       "      <th>0</th>\n",
       "      <td>254.000000</td>\n",
       "      <td>254.000000</td>\n",
       "      <td>251.666670</td>\n",
       "      <td>240.333330</td>\n",
       "      <td>185.333330</td>\n",
       "      <td>144.000000</td>\n",
       "      <td>174.00000</td>\n",
       "      <td>196.66667</td>\n",
       "      <td>196.00000</td>\n",
       "      <td>192.333330</td>\n",
       "      <td>...</td>\n",
       "      <td>100.000000</td>\n",
       "      <td>99.000000</td>\n",
       "      <td>95.666664</td>\n",
       "      <td>92.333336</td>\n",
       "      <td>90.666664</td>\n",
       "      <td>89.666664</td>\n",
       "      <td>87.333336</td>\n",
       "      <td>88.666664</td>\n",
       "      <td>86.666664</td>\n",
       "      <td>5</td>\n",
       "    </tr>\n",
       "    <tr>\n",
       "      <th>1</th>\n",
       "      <td>39.666668</td>\n",
       "      <td>50.333332</td>\n",
       "      <td>47.000000</td>\n",
       "      <td>54.666668</td>\n",
       "      <td>99.000000</td>\n",
       "      <td>120.666664</td>\n",
       "      <td>139.66667</td>\n",
       "      <td>157.66667</td>\n",
       "      <td>171.00000</td>\n",
       "      <td>177.666670</td>\n",
       "      <td>...</td>\n",
       "      <td>59.666668</td>\n",
       "      <td>73.333336</td>\n",
       "      <td>77.666664</td>\n",
       "      <td>83.666664</td>\n",
       "      <td>103.333336</td>\n",
       "      <td>123.000000</td>\n",
       "      <td>117.666664</td>\n",
       "      <td>115.000000</td>\n",
       "      <td>133.666670</td>\n",
       "      <td>6</td>\n",
       "    </tr>\n",
       "    <tr>\n",
       "      <th>2</th>\n",
       "      <td>89.333336</td>\n",
       "      <td>104.000000</td>\n",
       "      <td>126.000000</td>\n",
       "      <td>141.333330</td>\n",
       "      <td>152.000000</td>\n",
       "      <td>155.333330</td>\n",
       "      <td>155.33333</td>\n",
       "      <td>160.00000</td>\n",
       "      <td>163.00000</td>\n",
       "      <td>166.666670</td>\n",
       "      <td>...</td>\n",
       "      <td>111.666664</td>\n",
       "      <td>100.333336</td>\n",
       "      <td>106.666664</td>\n",
       "      <td>125.000000</td>\n",
       "      <td>117.666664</td>\n",
       "      <td>125.000000</td>\n",
       "      <td>175.333330</td>\n",
       "      <td>183.333330</td>\n",
       "      <td>183.000000</td>\n",
       "      <td>3</td>\n",
       "    </tr>\n",
       "    <tr>\n",
       "      <th>3</th>\n",
       "      <td>16.666666</td>\n",
       "      <td>7.666666</td>\n",
       "      <td>7.000000</td>\n",
       "      <td>6.000000</td>\n",
       "      <td>16.333334</td>\n",
       "      <td>70.000000</td>\n",
       "      <td>170.00000</td>\n",
       "      <td>169.66667</td>\n",
       "      <td>161.00000</td>\n",
       "      <td>106.333336</td>\n",
       "      <td>...</td>\n",
       "      <td>190.000000</td>\n",
       "      <td>230.000000</td>\n",
       "      <td>238.000000</td>\n",
       "      <td>239.333330</td>\n",
       "      <td>233.666670</td>\n",
       "      <td>134.000000</td>\n",
       "      <td>27.666666</td>\n",
       "      <td>38.000000</td>\n",
       "      <td>51.333332</td>\n",
       "      <td>1</td>\n",
       "    </tr>\n",
       "    <tr>\n",
       "      <th>4</th>\n",
       "      <td>122.666664</td>\n",
       "      <td>121.000000</td>\n",
       "      <td>126.666664</td>\n",
       "      <td>129.333330</td>\n",
       "      <td>129.333330</td>\n",
       "      <td>134.666670</td>\n",
       "      <td>142.00000</td>\n",
       "      <td>142.66667</td>\n",
       "      <td>147.33333</td>\n",
       "      <td>152.000000</td>\n",
       "      <td>...</td>\n",
       "      <td>17.666666</td>\n",
       "      <td>6.666666</td>\n",
       "      <td>5.666666</td>\n",
       "      <td>5.666666</td>\n",
       "      <td>10.333333</td>\n",
       "      <td>10.666667</td>\n",
       "      <td>22.000000</td>\n",
       "      <td>61.666668</td>\n",
       "      <td>70.666664</td>\n",
       "      <td>0</td>\n",
       "    </tr>\n",
       "  </tbody>\n",
       "</table>\n",
       "<p>5 rows × 1851 columns</p>\n",
       "</div>"
      ],
      "text/plain": [
       "            0           1           2           3           4           5  \\\n",
       "0  254.000000  254.000000  251.666670  240.333330  185.333330  144.000000   \n",
       "1   39.666668   50.333332   47.000000   54.666668   99.000000  120.666664   \n",
       "2   89.333336  104.000000  126.000000  141.333330  152.000000  155.333330   \n",
       "3   16.666666    7.666666    7.000000    6.000000   16.333334   70.000000   \n",
       "4  122.666664  121.000000  126.666664  129.333330  129.333330  134.666670   \n",
       "\n",
       "           6          7          8           9   ...          1841  \\\n",
       "0  174.00000  196.66667  196.00000  192.333330   ...    100.000000   \n",
       "1  139.66667  157.66667  171.00000  177.666670   ...     59.666668   \n",
       "2  155.33333  160.00000  163.00000  166.666670   ...    111.666664   \n",
       "3  170.00000  169.66667  161.00000  106.333336   ...    190.000000   \n",
       "4  142.00000  142.66667  147.33333  152.000000   ...     17.666666   \n",
       "\n",
       "         1842        1843        1844        1845        1846        1847  \\\n",
       "0   99.000000   95.666664   92.333336   90.666664   89.666664   87.333336   \n",
       "1   73.333336   77.666664   83.666664  103.333336  123.000000  117.666664   \n",
       "2  100.333336  106.666664  125.000000  117.666664  125.000000  175.333330   \n",
       "3  230.000000  238.000000  239.333330  233.666670  134.000000   27.666666   \n",
       "4    6.666666    5.666666    5.666666   10.333333   10.666667   22.000000   \n",
       "\n",
       "         1848        1849  target  \n",
       "0   88.666664   86.666664       5  \n",
       "1  115.000000  133.666670       6  \n",
       "2  183.333330  183.000000       3  \n",
       "3   38.000000   51.333332       1  \n",
       "4   61.666668   70.666664       0  \n",
       "\n",
       "[5 rows x 1851 columns]"
      ]
     },
     "execution_count": 2,
     "metadata": {},
     "output_type": "execute_result"
    }
   ],
   "source": [
    "df['target'] = df['target'].astype('category')\n",
    "\n",
    "target_names = df['target'].cat.categories\n",
    "\n",
    "df['target'] = df['target'].cat.codes\n",
    "\n",
    "df.head()"
   ]
  },
  {
   "cell_type": "code",
   "execution_count": 3,
   "metadata": {},
   "outputs": [],
   "source": [
    "import numpy as np \n",
    "import matplotlib.pyplot as plt\n",
    "%matplotlib inline\n",
    "\n",
    "def print_face(image):   \n",
    "    plt.figure(figsize=(4,3))\n",
    "    plt.imshow(np.reshape(image, (50,37)), cmap=plt.cm.gray)"
   ]
  },
  {
   "cell_type": "markdown",
   "metadata": {},
   "source": [
    "### Task 3.0.2-1:  PCA\n",
    "\n",
    "1. Split data into a 75% training set and a 25% test set using `train_test_split`.\n",
    "* Compute a PCA on the training dataset and extract 150 features. *Note: use `svd_solver='randomized'` and `whiten=True`*"
   ]
  },
  {
   "cell_type": "code",
   "execution_count": 4,
   "metadata": {},
   "outputs": [],
   "source": [
    "X = df.iloc[:, :-1]\n",
    "y = df.iloc[:, -1]"
   ]
  },
  {
   "cell_type": "code",
   "execution_count": 5,
   "metadata": {},
   "outputs": [],
   "source": [
    "from sklearn.model_selection import train_test_split\n",
    "\n",
    "X_train, X_test, y_train, y_test = train_test_split(X, y, test_size=0.25, random_state=0)"
   ]
  },
  {
   "cell_type": "code",
   "execution_count": 6,
   "metadata": {},
   "outputs": [],
   "source": [
    "from sklearn.decomposition import PCA\n",
    "\n",
    "pca = PCA(n_components=150, svd_solver='randomized', whiten=True).fit(X_train)"
   ]
  },
  {
   "cell_type": "code",
   "execution_count": 7,
   "metadata": {},
   "outputs": [
    {
     "data": {
      "text/plain": [
       "(150, 1850)"
      ]
     },
     "execution_count": 7,
     "metadata": {},
     "output_type": "execute_result"
    }
   ],
   "source": [
    "# The PCA components act as the top 150 eigenfaces\n",
    "eigenfaces = pca.components_\n",
    "\n",
    "eigenfaces.shape"
   ]
  },
  {
   "cell_type": "code",
   "execution_count": 8,
   "metadata": {},
   "outputs": [
    {
     "data": {
      "image/png": "[encoded data removed]",
      "text/plain": [
       "<Figure size 288x216 with 1 Axes>"
      ]
     },
     "metadata": {
      "needs_background": "light"
     },
     "output_type": "display_data"
    }
   ],
   "source": [
    "print_face(eigenfaces[5])"
   ]
  },
  {
   "cell_type": "markdown",
   "metadata": {},
   "source": [
    "## What are Eigenfaces?\n",
    "\n",
    "Eigenfaces is the name given to a set of eigenvectors when they are used in the computer vision problem of human face recognition. This approach for face recognition was developed in the late 1980's and is still used today.\n",
    "\n",
    "The eigenfaces themselves form a basis set of all images which is generated by performing a principal component analysis (PCA). This produces dimension reduction by allowing the smaller set of basis images to represent the original training images. Classification can be achieved by comparing how faces are represented by the basis set."
   ]
  },
  {
   "cell_type": "code",
   "execution_count": 9,
   "metadata": {},
   "outputs": [],
   "source": [
    "# Projecting the input data on the eigenfaces orthonormal basis\n",
    "X_train_pca = pca.transform(X_train)\n",
    "X_test_pca = pca.transform(X_test)"
   ]
  },
  {
   "cell_type": "code",
   "execution_count": 10,
   "metadata": {},
   "outputs": [
    {
     "data": {
      "text/plain": [
       "(966, 150)"
      ]
     },
     "execution_count": 10,
     "metadata": {},
     "output_type": "execute_result"
    }
   ],
   "source": [
    "X_train_pca.shape"
   ]
  },
  {
   "cell_type": "code",
   "execution_count": 11,
   "metadata": {},
   "outputs": [
    {
     "data": {
      "text/plain": [
       "(322, 150)"
      ]
     },
     "execution_count": 11,
     "metadata": {},
     "output_type": "execute_result"
    }
   ],
   "source": [
    "X_test_pca.shape"
   ]
  },
  {
   "cell_type": "markdown",
   "metadata": {},
   "source": [
    "### Task 3.0.2-2:  Model Training and Evaluation\n",
    "\n",
    "1. Train a SVM classification model using a `GridSearchCV` with the following grid:\n",
    "```python\n",
    "param_grid = {'C': [1e3, 5e3, 1e4, 5e4, 1e5],\n",
    "                 'gamma': [0.0001, 0.0005, 0.001, 0.005, 0.01, 0.1] }\n",
    "```\n",
    "* Evaluate the model's performance."
   ]
  },
  {
   "cell_type": "code",
   "execution_count": 12,
   "metadata": {},
   "outputs": [
    {
     "name": "stdout",
     "output_type": "stream",
     "text": [
      "SVC(C=1000.0, cache_size=200, class_weight='balanced', coef0=0.0,\n",
      "  decision_function_shape='ovr', degree=3, gamma=0.001, kernel='rbf',\n",
      "  max_iter=-1, probability=False, random_state=None, shrinking=True,\n",
      "  tol=0.001, verbose=False)\n"
     ]
    }
   ],
   "source": [
    "from sklearn.svm import SVC\n",
    "from sklearn.model_selection import GridSearchCV\n",
    "\n",
    "# Train a SVM classification model\n",
    "param_grid = {'C': [1e3, 5e3, 1e4, 5e4, 1e5],\n",
    "              'gamma': [0.0001, 0.0005, 0.001, 0.005, 0.01, 0.1]}\n",
    "clf = GridSearchCV(SVC(kernel='rbf', class_weight='balanced'), param_grid)\n",
    "clf = clf.fit(X_train_pca, y_train)\n",
    "\n",
    "# Best estimator found by grid search\n",
    "print(clf.best_estimator_)"
   ]
  },
  {
   "cell_type": "code",
   "execution_count": 13,
   "metadata": {},
   "outputs": [
    {
     "name": "stdout",
     "output_type": "stream",
     "text": [
      "Accuracy: 0.8167701863354038\n",
      "[[ 20   4   0   2   2   0   0]\n",
      " [  1  51   2   4   0   1   4]\n",
      " [  0   2  19   3   0   0   0]\n",
      " [  1   8   6 115   1   0   1]\n",
      " [  0   0   1   1  16   0   2]\n",
      " [  0   0   0   3   3  16   0]\n",
      " [  0   1   1   2   3   0  26]]\n"
     ]
    }
   ],
   "source": [
    "from sklearn.metrics import confusion_matrix\n",
    "\n",
    "# Quantitative evaluation of the model quality on the test set\n",
    "y_pred = clf.predict(X_test_pca)\n",
    "\n",
    "print(\"Accuracy:\", clf.score(X_test_pca, y_test))\n",
    "print(confusion_matrix(y_test, y_pred))"
   ]
  },
  {
   "cell_type": "code",
   "execution_count": 14,
   "metadata": {},
   "outputs": [
    {
     "data": {
      "image/png": "[encoded data removed]",
      "text/plain": [
       "<Figure size 288x216 with 1 Axes>"
      ]
     },
     "metadata": {
      "needs_background": "light"
     },
     "output_type": "display_data"
    }
   ],
   "source": [
    "print_face(X_test.iloc[0, :].astype('float').values)"
   ]
  },
  {
   "cell_type": "code",
   "execution_count": 15,
   "metadata": {},
   "outputs": [
    {
     "name": "stdout",
     "output_type": "stream",
     "text": [
      "True:  George W Bush\n",
      "Pred:  George W Bush\n"
     ]
    }
   ],
   "source": [
    "print(\"True: \", target_names[y_test.iloc[0]])\n",
    "print(\"Pred: \", target_names[y_pred[0]])"
   ]
  }
 ],
 "metadata": {
  "kernelspec": {
   "display_name": "Python 3",
   "language": "python",
   "name": "python3"
  },
  "language_info": {
   "codemirror_mode": {
    "name": "ipython",
    "version": 3
   },
   "file_extension": ".py",
   "mimetype": "text/x-python",
   "name": "python",
   "nbconvert_exporter": "python",
   "pygments_lexer": "ipython3",
   "version": "3.7.0"
  }
 },
 "nbformat": 4,
 "nbformat_minor": 2
}
