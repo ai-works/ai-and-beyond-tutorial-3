{
 "cells": [
  {
   "cell_type": "markdown",
   "metadata": {},
   "source": [
    "# Task 3.0.1 – Recap: Initiation"
   ]
  },
  {
   "cell_type": "markdown",
   "metadata": {},
   "source": [
    "Face recognition systems are built on the idea that each person has a particular face structure, and using the facial symmetry, computerized face-matching is possible. \n",
    "\n",
    "The work on face recognition has begun in the 1960's, the results of which are being used for security in various institutions and firms throughout the world. \n",
    "\n",
    "The images must be processed correctly for computer based face recognition. The face and its structural properties should be identified carefully, and the resulting image must be converted to two dimensional digital data.\n",
    "\n",
    "![Img](./data/face_recognition.png)"
   ]
  },
  {
   "cell_type": "markdown",
   "metadata": {},
   "source": [
    "For this task we use the dataset [Labeled Faces in the Wild](http://vis-www.cs.umass.edu/lfw/) which contains more than 13,000 images of faces collected from the web. Each face has been labeled with the name of the person pictured.\n",
    "\n"
   ]
  },
  {
   "cell_type": "markdown",
   "metadata": {},
   "source": [
    "#### Loading the Data (Labeled Faces in the Wild Dataset)\n",
    "The lfw_people dataset is also one of datasets scikit-learn comes with that do not require the downloading of any file from some external website. The code below will load the dataset."
   ]
  },
  {
   "cell_type": "code",
   "execution_count": 1,
   "metadata": {},
   "outputs": [
    {
     "data": {
      "text/plain": [
       "array([[254.      , 254.      , 251.66667 , ...,  87.333336,  88.666664,\n",
       "         86.666664],\n",
       "       [ 39.666668,  50.333332,  47.      , ..., 117.666664, 115.      ,\n",
       "        133.66667 ],\n",
       "       [ 89.333336, 104.      , 126.      , ..., 175.33333 , 183.33333 ,\n",
       "        183.      ],\n",
       "       ...,\n",
       "       [ 86.      ,  80.333336,  74.666664, ...,  44.      ,  49.666668,\n",
       "         44.666668],\n",
       "       [ 50.333332,  65.666664,  88.      , ..., 197.      , 179.33333 ,\n",
       "        166.33333 ],\n",
       "       [ 30.      ,  27.      ,  32.666668, ...,  35.      ,  35.333332,\n",
       "         61.      ]], dtype=float32)"
      ]
     },
     "execution_count": 1,
     "metadata": {},
     "output_type": "execute_result"
    }
   ],
   "source": [
    "from sklearn.datasets import fetch_lfw_people\n",
    "\n",
    "lfw_people = fetch_lfw_people(min_faces_per_person=70, resize=0.4)\n",
    "\n",
    "lfw_people.data"
   ]
  },
  {
   "cell_type": "markdown",
   "metadata": {},
   "source": [
    "But it's really large, so just use this csv file containing a dump."
   ]
  },
  {
   "cell_type": "code",
   "execution_count": 2,
   "metadata": {},
   "outputs": [],
   "source": [
    "import pandas as pd\n",
    "\n",
    "df = pd.read_csv('./data/lfw_people.csv', index_col = 0)"
   ]
  },
  {
   "cell_type": "markdown",
   "metadata": {},
   "source": [
    "### Task 3.0.1-1:  Explore data\n",
    "\n",
    "**Note: each image has a height of 50 and a width of 37.**\n",
    "\n",
    "1. Explore the dataset.\n",
    "* Transform the target column to a numeric feature.\n",
    "* Try to plot an image from the dataset. *Note: see Task 2.3 (Exercise 2)*"
   ]
  },
  {
   "cell_type": "code",
   "execution_count": 3,
   "metadata": {},
   "outputs": [
    {
     "data": {
      "text/plain": [
       "(1288, 1851)"
      ]
     },
     "execution_count": 3,
     "metadata": {},
     "output_type": "execute_result"
    }
   ],
   "source": [
    "df.shape"
   ]
  },
  {
   "cell_type": "code",
   "execution_count": 4,
   "metadata": {},
   "outputs": [
    {
     "data": {
      "text/plain": [
       "1850"
      ]
     },
     "execution_count": 4,
     "metadata": {},
     "output_type": "execute_result"
    }
   ],
   "source": [
    "50 * 37"
   ]
  },
  {
   "cell_type": "code",
   "execution_count": 5,
   "metadata": {},
   "outputs": [
    {
     "data": {
      "text/html": [
       "<div>\n",
       "<style scoped>\n",
       "    .dataframe tbody tr th:only-of-type {\n",
       "        vertical-align: middle;\n",
       "    }\n",
       "\n",
       "    .dataframe tbody tr th {\n",
       "        vertical-align: top;\n",
       "    }\n",
       "\n",
       "    .dataframe thead th {\n",
       "        text-align: right;\n",
       "    }\n",
       "</style>\n",
       "<table border=\"1\" class=\"dataframe\">\n",
       "  <thead>\n",
       "    <tr style=\"text-align: right;\">\n",
       "      <th></th>\n",
       "      <th>0</th>\n",
       "      <th>1</th>\n",
       "      <th>2</th>\n",
       "      <th>3</th>\n",
       "      <th>4</th>\n",
       "      <th>5</th>\n",
       "      <th>6</th>\n",
       "      <th>7</th>\n",
       "      <th>8</th>\n",
       "      <th>9</th>\n",
       "      <th>...</th>\n",
       "      <th>1841</th>\n",
       "      <th>1842</th>\n",
       "      <th>1843</th>\n",
       "      <th>1844</th>\n",
       "      <th>1845</th>\n",
       "      <th>1846</th>\n",
       "      <th>1847</th>\n",
       "      <th>1848</th>\n",
       "      <th>1849</th>\n",
       "      <th>target</th>\n",
       "    </tr>\n",
       "  </thead>\n",
       "  <tbody>\n",
       "    <tr>\n",
       "      <th>0</th>\n",
       "      <td>254.000000</td>\n",
       "      <td>254.000000</td>\n",
       "      <td>251.666670</td>\n",
       "      <td>240.333330</td>\n",
       "      <td>185.333330</td>\n",
       "      <td>144.000000</td>\n",
       "      <td>174.00000</td>\n",
       "      <td>196.66667</td>\n",
       "      <td>196.00000</td>\n",
       "      <td>192.333330</td>\n",
       "      <td>...</td>\n",
       "      <td>100.000000</td>\n",
       "      <td>99.000000</td>\n",
       "      <td>95.666664</td>\n",
       "      <td>92.333336</td>\n",
       "      <td>90.666664</td>\n",
       "      <td>89.666664</td>\n",
       "      <td>87.333336</td>\n",
       "      <td>88.666664</td>\n",
       "      <td>86.666664</td>\n",
       "      <td>Hugo Chavez</td>\n",
       "    </tr>\n",
       "    <tr>\n",
       "      <th>1</th>\n",
       "      <td>39.666668</td>\n",
       "      <td>50.333332</td>\n",
       "      <td>47.000000</td>\n",
       "      <td>54.666668</td>\n",
       "      <td>99.000000</td>\n",
       "      <td>120.666664</td>\n",
       "      <td>139.66667</td>\n",
       "      <td>157.66667</td>\n",
       "      <td>171.00000</td>\n",
       "      <td>177.666670</td>\n",
       "      <td>...</td>\n",
       "      <td>59.666668</td>\n",
       "      <td>73.333336</td>\n",
       "      <td>77.666664</td>\n",
       "      <td>83.666664</td>\n",
       "      <td>103.333336</td>\n",
       "      <td>123.000000</td>\n",
       "      <td>117.666664</td>\n",
       "      <td>115.000000</td>\n",
       "      <td>133.666670</td>\n",
       "      <td>Tony Blair</td>\n",
       "    </tr>\n",
       "    <tr>\n",
       "      <th>2</th>\n",
       "      <td>89.333336</td>\n",
       "      <td>104.000000</td>\n",
       "      <td>126.000000</td>\n",
       "      <td>141.333330</td>\n",
       "      <td>152.000000</td>\n",
       "      <td>155.333330</td>\n",
       "      <td>155.33333</td>\n",
       "      <td>160.00000</td>\n",
       "      <td>163.00000</td>\n",
       "      <td>166.666670</td>\n",
       "      <td>...</td>\n",
       "      <td>111.666664</td>\n",
       "      <td>100.333336</td>\n",
       "      <td>106.666664</td>\n",
       "      <td>125.000000</td>\n",
       "      <td>117.666664</td>\n",
       "      <td>125.000000</td>\n",
       "      <td>175.333330</td>\n",
       "      <td>183.333330</td>\n",
       "      <td>183.000000</td>\n",
       "      <td>George W Bush</td>\n",
       "    </tr>\n",
       "    <tr>\n",
       "      <th>3</th>\n",
       "      <td>16.666666</td>\n",
       "      <td>7.666666</td>\n",
       "      <td>7.000000</td>\n",
       "      <td>6.000000</td>\n",
       "      <td>16.333334</td>\n",
       "      <td>70.000000</td>\n",
       "      <td>170.00000</td>\n",
       "      <td>169.66667</td>\n",
       "      <td>161.00000</td>\n",
       "      <td>106.333336</td>\n",
       "      <td>...</td>\n",
       "      <td>190.000000</td>\n",
       "      <td>230.000000</td>\n",
       "      <td>238.000000</td>\n",
       "      <td>239.333330</td>\n",
       "      <td>233.666670</td>\n",
       "      <td>134.000000</td>\n",
       "      <td>27.666666</td>\n",
       "      <td>38.000000</td>\n",
       "      <td>51.333332</td>\n",
       "      <td>Colin Powell</td>\n",
       "    </tr>\n",
       "    <tr>\n",
       "      <th>4</th>\n",
       "      <td>122.666664</td>\n",
       "      <td>121.000000</td>\n",
       "      <td>126.666664</td>\n",
       "      <td>129.333330</td>\n",
       "      <td>129.333330</td>\n",
       "      <td>134.666670</td>\n",
       "      <td>142.00000</td>\n",
       "      <td>142.66667</td>\n",
       "      <td>147.33333</td>\n",
       "      <td>152.000000</td>\n",
       "      <td>...</td>\n",
       "      <td>17.666666</td>\n",
       "      <td>6.666666</td>\n",
       "      <td>5.666666</td>\n",
       "      <td>5.666666</td>\n",
       "      <td>10.333333</td>\n",
       "      <td>10.666667</td>\n",
       "      <td>22.000000</td>\n",
       "      <td>61.666668</td>\n",
       "      <td>70.666664</td>\n",
       "      <td>Ariel Sharon</td>\n",
       "    </tr>\n",
       "  </tbody>\n",
       "</table>\n",
       "<p>5 rows × 1851 columns</p>\n",
       "</div>"
      ],
      "text/plain": [
       "            0           1           2           3           4           5  \\\n",
       "0  254.000000  254.000000  251.666670  240.333330  185.333330  144.000000   \n",
       "1   39.666668   50.333332   47.000000   54.666668   99.000000  120.666664   \n",
       "2   89.333336  104.000000  126.000000  141.333330  152.000000  155.333330   \n",
       "3   16.666666    7.666666    7.000000    6.000000   16.333334   70.000000   \n",
       "4  122.666664  121.000000  126.666664  129.333330  129.333330  134.666670   \n",
       "\n",
       "           6          7          8           9      ...              1841  \\\n",
       "0  174.00000  196.66667  196.00000  192.333330      ...        100.000000   \n",
       "1  139.66667  157.66667  171.00000  177.666670      ...         59.666668   \n",
       "2  155.33333  160.00000  163.00000  166.666670      ...        111.666664   \n",
       "3  170.00000  169.66667  161.00000  106.333336      ...        190.000000   \n",
       "4  142.00000  142.66667  147.33333  152.000000      ...         17.666666   \n",
       "\n",
       "         1842        1843        1844        1845        1846        1847  \\\n",
       "0   99.000000   95.666664   92.333336   90.666664   89.666664   87.333336   \n",
       "1   73.333336   77.666664   83.666664  103.333336  123.000000  117.666664   \n",
       "2  100.333336  106.666664  125.000000  117.666664  125.000000  175.333330   \n",
       "3  230.000000  238.000000  239.333330  233.666670  134.000000   27.666666   \n",
       "4    6.666666    5.666666    5.666666   10.333333   10.666667   22.000000   \n",
       "\n",
       "         1848        1849         target  \n",
       "0   88.666664   86.666664    Hugo Chavez  \n",
       "1  115.000000  133.666670     Tony Blair  \n",
       "2  183.333330  183.000000  George W Bush  \n",
       "3   38.000000   51.333332   Colin Powell  \n",
       "4   61.666668   70.666664   Ariel Sharon  \n",
       "\n",
       "[5 rows x 1851 columns]"
      ]
     },
     "execution_count": 5,
     "metadata": {},
     "output_type": "execute_result"
    }
   ],
   "source": [
    "df.head()"
   ]
  },
  {
   "cell_type": "code",
   "execution_count": 6,
   "metadata": {},
   "outputs": [
    {
     "data": {
      "text/plain": [
       "0      Hugo Chavez\n",
       "1       Tony Blair\n",
       "2    George W Bush\n",
       "3     Colin Powell\n",
       "4     Ariel Sharon\n",
       "Name: target, dtype: category\n",
       "Categories (7, object): [Ariel Sharon, Colin Powell, Donald Rumsfeld, George W Bush, Gerhard Schroeder, Hugo Chavez, Tony Blair]"
      ]
     },
     "execution_count": 6,
     "metadata": {},
     "output_type": "execute_result"
    }
   ],
   "source": [
    "df['target'] = df['target'].astype('category')\n",
    "\n",
    "df['target'].head()"
   ]
  },
  {
   "cell_type": "code",
   "execution_count": 7,
   "metadata": {},
   "outputs": [
    {
     "data": {
      "text/html": [
       "<div>\n",
       "<style scoped>\n",
       "    .dataframe tbody tr th:only-of-type {\n",
       "        vertical-align: middle;\n",
       "    }\n",
       "\n",
       "    .dataframe tbody tr th {\n",
       "        vertical-align: top;\n",
       "    }\n",
       "\n",
       "    .dataframe thead th {\n",
       "        text-align: right;\n",
       "    }\n",
       "</style>\n",
       "<table border=\"1\" class=\"dataframe\">\n",
       "  <thead>\n",
       "    <tr style=\"text-align: right;\">\n",
       "      <th></th>\n",
       "      <th>0</th>\n",
       "      <th>1</th>\n",
       "      <th>2</th>\n",
       "      <th>3</th>\n",
       "      <th>4</th>\n",
       "      <th>5</th>\n",
       "      <th>6</th>\n",
       "      <th>7</th>\n",
       "      <th>8</th>\n",
       "      <th>9</th>\n",
       "      <th>...</th>\n",
       "      <th>1842</th>\n",
       "      <th>1843</th>\n",
       "      <th>1844</th>\n",
       "      <th>1845</th>\n",
       "      <th>1846</th>\n",
       "      <th>1847</th>\n",
       "      <th>1848</th>\n",
       "      <th>1849</th>\n",
       "      <th>target</th>\n",
       "      <th>num_target</th>\n",
       "    </tr>\n",
       "  </thead>\n",
       "  <tbody>\n",
       "    <tr>\n",
       "      <th>0</th>\n",
       "      <td>254.000000</td>\n",
       "      <td>254.000000</td>\n",
       "      <td>251.666670</td>\n",
       "      <td>240.333330</td>\n",
       "      <td>185.333330</td>\n",
       "      <td>144.000000</td>\n",
       "      <td>174.00000</td>\n",
       "      <td>196.66667</td>\n",
       "      <td>196.00000</td>\n",
       "      <td>192.333330</td>\n",
       "      <td>...</td>\n",
       "      <td>99.000000</td>\n",
       "      <td>95.666664</td>\n",
       "      <td>92.333336</td>\n",
       "      <td>90.666664</td>\n",
       "      <td>89.666664</td>\n",
       "      <td>87.333336</td>\n",
       "      <td>88.666664</td>\n",
       "      <td>86.666664</td>\n",
       "      <td>Hugo Chavez</td>\n",
       "      <td>5</td>\n",
       "    </tr>\n",
       "    <tr>\n",
       "      <th>1</th>\n",
       "      <td>39.666668</td>\n",
       "      <td>50.333332</td>\n",
       "      <td>47.000000</td>\n",
       "      <td>54.666668</td>\n",
       "      <td>99.000000</td>\n",
       "      <td>120.666664</td>\n",
       "      <td>139.66667</td>\n",
       "      <td>157.66667</td>\n",
       "      <td>171.00000</td>\n",
       "      <td>177.666670</td>\n",
       "      <td>...</td>\n",
       "      <td>73.333336</td>\n",
       "      <td>77.666664</td>\n",
       "      <td>83.666664</td>\n",
       "      <td>103.333336</td>\n",
       "      <td>123.000000</td>\n",
       "      <td>117.666664</td>\n",
       "      <td>115.000000</td>\n",
       "      <td>133.666670</td>\n",
       "      <td>Tony Blair</td>\n",
       "      <td>6</td>\n",
       "    </tr>\n",
       "    <tr>\n",
       "      <th>2</th>\n",
       "      <td>89.333336</td>\n",
       "      <td>104.000000</td>\n",
       "      <td>126.000000</td>\n",
       "      <td>141.333330</td>\n",
       "      <td>152.000000</td>\n",
       "      <td>155.333330</td>\n",
       "      <td>155.33333</td>\n",
       "      <td>160.00000</td>\n",
       "      <td>163.00000</td>\n",
       "      <td>166.666670</td>\n",
       "      <td>...</td>\n",
       "      <td>100.333336</td>\n",
       "      <td>106.666664</td>\n",
       "      <td>125.000000</td>\n",
       "      <td>117.666664</td>\n",
       "      <td>125.000000</td>\n",
       "      <td>175.333330</td>\n",
       "      <td>183.333330</td>\n",
       "      <td>183.000000</td>\n",
       "      <td>George W Bush</td>\n",
       "      <td>3</td>\n",
       "    </tr>\n",
       "    <tr>\n",
       "      <th>3</th>\n",
       "      <td>16.666666</td>\n",
       "      <td>7.666666</td>\n",
       "      <td>7.000000</td>\n",
       "      <td>6.000000</td>\n",
       "      <td>16.333334</td>\n",
       "      <td>70.000000</td>\n",
       "      <td>170.00000</td>\n",
       "      <td>169.66667</td>\n",
       "      <td>161.00000</td>\n",
       "      <td>106.333336</td>\n",
       "      <td>...</td>\n",
       "      <td>230.000000</td>\n",
       "      <td>238.000000</td>\n",
       "      <td>239.333330</td>\n",
       "      <td>233.666670</td>\n",
       "      <td>134.000000</td>\n",
       "      <td>27.666666</td>\n",
       "      <td>38.000000</td>\n",
       "      <td>51.333332</td>\n",
       "      <td>Colin Powell</td>\n",
       "      <td>1</td>\n",
       "    </tr>\n",
       "    <tr>\n",
       "      <th>4</th>\n",
       "      <td>122.666664</td>\n",
       "      <td>121.000000</td>\n",
       "      <td>126.666664</td>\n",
       "      <td>129.333330</td>\n",
       "      <td>129.333330</td>\n",
       "      <td>134.666670</td>\n",
       "      <td>142.00000</td>\n",
       "      <td>142.66667</td>\n",
       "      <td>147.33333</td>\n",
       "      <td>152.000000</td>\n",
       "      <td>...</td>\n",
       "      <td>6.666666</td>\n",
       "      <td>5.666666</td>\n",
       "      <td>5.666666</td>\n",
       "      <td>10.333333</td>\n",
       "      <td>10.666667</td>\n",
       "      <td>22.000000</td>\n",
       "      <td>61.666668</td>\n",
       "      <td>70.666664</td>\n",
       "      <td>Ariel Sharon</td>\n",
       "      <td>0</td>\n",
       "    </tr>\n",
       "  </tbody>\n",
       "</table>\n",
       "<p>5 rows × 1852 columns</p>\n",
       "</div>"
      ],
      "text/plain": [
       "            0           1           2           3           4           5  \\\n",
       "0  254.000000  254.000000  251.666670  240.333330  185.333330  144.000000   \n",
       "1   39.666668   50.333332   47.000000   54.666668   99.000000  120.666664   \n",
       "2   89.333336  104.000000  126.000000  141.333330  152.000000  155.333330   \n",
       "3   16.666666    7.666666    7.000000    6.000000   16.333334   70.000000   \n",
       "4  122.666664  121.000000  126.666664  129.333330  129.333330  134.666670   \n",
       "\n",
       "           6          7          8           9     ...            1842  \\\n",
       "0  174.00000  196.66667  196.00000  192.333330     ...       99.000000   \n",
       "1  139.66667  157.66667  171.00000  177.666670     ...       73.333336   \n",
       "2  155.33333  160.00000  163.00000  166.666670     ...      100.333336   \n",
       "3  170.00000  169.66667  161.00000  106.333336     ...      230.000000   \n",
       "4  142.00000  142.66667  147.33333  152.000000     ...        6.666666   \n",
       "\n",
       "         1843        1844        1845        1846        1847        1848  \\\n",
       "0   95.666664   92.333336   90.666664   89.666664   87.333336   88.666664   \n",
       "1   77.666664   83.666664  103.333336  123.000000  117.666664  115.000000   \n",
       "2  106.666664  125.000000  117.666664  125.000000  175.333330  183.333330   \n",
       "3  238.000000  239.333330  233.666670  134.000000   27.666666   38.000000   \n",
       "4    5.666666    5.666666   10.333333   10.666667   22.000000   61.666668   \n",
       "\n",
       "         1849         target  num_target  \n",
       "0   86.666664    Hugo Chavez           5  \n",
       "1  133.666670     Tony Blair           6  \n",
       "2  183.000000  George W Bush           3  \n",
       "3   51.333332   Colin Powell           1  \n",
       "4   70.666664   Ariel Sharon           0  \n",
       "\n",
       "[5 rows x 1852 columns]"
      ]
     },
     "execution_count": 7,
     "metadata": {},
     "output_type": "execute_result"
    }
   ],
   "source": [
    "df['num_target'] = df['target'].cat.codes\n",
    "\n",
    "df.head()"
   ]
  },
  {
   "cell_type": "code",
   "execution_count": 8,
   "metadata": {},
   "outputs": [
    {
     "data": {
      "text/plain": [
       "Index(['Ariel Sharon', 'Colin Powell', 'Donald Rumsfeld', 'George W Bush',\n",
       "       'Gerhard Schroeder', 'Hugo Chavez', 'Tony Blair'],\n",
       "      dtype='object')"
      ]
     },
     "execution_count": 8,
     "metadata": {},
     "output_type": "execute_result"
    }
   ],
   "source": [
    "target_names = df['target'].cat.categories\n",
    "\n",
    "target_names"
   ]
  },
  {
   "cell_type": "code",
   "execution_count": 9,
   "metadata": {},
   "outputs": [
    {
     "data": {
      "image/png": "[encoded data removed]",
      "text/plain": [
       "<Figure size 288x216 with 1 Axes>"
      ]
     },
     "metadata": {
      "needs_background": "light"
     },
     "output_type": "display_data"
    }
   ],
   "source": [
    "import numpy as np \n",
    "import matplotlib.pyplot as plt\n",
    "%matplotlib inline\n",
    "\n",
    "def print_face(i):\n",
    "    image = df.iloc[i, :-2].astype('float').values\n",
    "    name = df.iloc[i, -2]\n",
    "    \n",
    "    plt.figure(figsize=(4,3))\n",
    "    plt.imshow(np.reshape(image, (50,37)), cmap=plt.cm.gray)\n",
    "    plt.title(name, fontsize = 20)\n",
    "\n",
    "print_face(122)"
   ]
  },
  {
   "cell_type": "code",
   "execution_count": null,
   "metadata": {},
   "outputs": [],
   "source": []
  }
 ],
 "metadata": {
  "kernelspec": {
   "display_name": "Python 3",
   "language": "python",
   "name": "python3"
  },
  "language_info": {
   "codemirror_mode": {
    "name": "ipython",
    "version": 3
   },
   "file_extension": ".py",
   "mimetype": "text/x-python",
   "name": "python",
   "nbconvert_exporter": "python",
   "pygments_lexer": "ipython3",
   "version": "3.7.0"
  }
 },
 "nbformat": 4,
 "nbformat_minor": 2
}
